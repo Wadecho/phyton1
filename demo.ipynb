{
 "cells": [
  {
   "cell_type": "code",
   "execution_count": 18,
   "metadata": {},
   "outputs": [],
   "source": [
    "## python\n",
    "### python\n",
    "\n",
    "a = 12\n",
    "\n",
    "a\n",
    "\n",
    "a = 12\n",
    "b = 13\n",
    "c = 14\n",
    "d = 'qwer'\n",
    "\n",
    "a, b, c, d\n",
    "\n",
    "!pip install emoji\n",
    "\n",
    "from emoji\n",
    "\n",
    "from emoji import emojize\n",
    "\n",
    "emojize (\":musle:\")\n",
    "\n",
    "emojize (\":muscle:\")\n",
    "\n",
    "emojize (\":thumbs_up:\")\n",
    "\n",
    "emojize(\":japanese_ogre:\")\n",
    "\n",
    "emojize(\":no_good:\")\n",
    "\n",
    "data ='i am a data, please using me'\n",
    "\n",
    "%store\n",
    "\n",
    "%store data\n",
    "\n",
    "%run demo3.ipynb\n",
    "\n",
    "%run demo3.py"
   ]
  },
  {
   "cell_type": "code",
   "execution_count": 19,
   "metadata": {},
   "outputs": [
    {
     "name": "stdout",
     "output_type": "stream",
     "text": [
      "11\n"
     ]
    }
   ],
   "source": [
    "%run python_code.py"
   ]
  },
  {
   "cell_type": "code",
   "execution_count": null,
   "metadata": {},
   "outputs": [],
   "source": []
  },
  {
   "cell_type": "code",
   "execution_count": null,
   "metadata": {},
   "outputs": [],
   "source": []
  },
  {
   "cell_type": "code",
   "execution_count": null,
   "metadata": {},
   "outputs": [],
   "source": []
  },
  {
   "cell_type": "code",
   "execution_count": null,
   "metadata": {},
   "outputs": [],
   "source": []
  }
 ],
 "metadata": {
  "kernelspec": {
   "display_name": "Python 3",
   "language": "python",
   "name": "python3"
  },
  "language_info": {
   "codemirror_mode": {
    "name": "ipython",
    "version": 3
   },
   "file_extension": ".py",
   "mimetype": "text/x-python",
   "name": "python",
   "nbconvert_exporter": "python",
   "pygments_lexer": "ipython3",
   "version": "3.7.1"
  }
 },
 "nbformat": 4,
 "nbformat_minor": 2
}
